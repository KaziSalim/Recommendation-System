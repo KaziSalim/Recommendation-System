{
 "cells": [
  {
   "cell_type": "markdown",
   "id": "40747b8e",
   "metadata": {},
   "source": [
    "# Recommendation system"
   ]
  },
  {
   "cell_type": "code",
   "execution_count": 1,
   "id": "671726d3",
   "metadata": {},
   "outputs": [],
   "source": [
    "import pandas as pd"
   ]
  },
  {
   "cell_type": "code",
   "execution_count": 2,
   "id": "0a245a78",
   "metadata": {},
   "outputs": [],
   "source": [
    "game = pd.read_csv(r\"D:\\Data Scientist\\Recommendation system\\Datasets\\game.csv\")"
   ]
  },
  {
   "cell_type": "code",
   "execution_count": 4,
   "id": "295b9d44",
   "metadata": {},
   "outputs": [
    {
     "data": {
      "text/html": [
       "<div>\n",
       "<style scoped>\n",
       "    .dataframe tbody tr th:only-of-type {\n",
       "        vertical-align: middle;\n",
       "    }\n",
       "\n",
       "    .dataframe tbody tr th {\n",
       "        vertical-align: top;\n",
       "    }\n",
       "\n",
       "    .dataframe thead th {\n",
       "        text-align: right;\n",
       "    }\n",
       "</style>\n",
       "<table border=\"1\" class=\"dataframe\">\n",
       "  <thead>\n",
       "    <tr style=\"text-align: right;\">\n",
       "      <th></th>\n",
       "      <th>userId</th>\n",
       "      <th>game</th>\n",
       "      <th>rating</th>\n",
       "    </tr>\n",
       "  </thead>\n",
       "  <tbody>\n",
       "    <tr>\n",
       "      <th>0</th>\n",
       "      <td>3</td>\n",
       "      <td>The Legend of Zelda: Ocarina of Time</td>\n",
       "      <td>4.0</td>\n",
       "    </tr>\n",
       "    <tr>\n",
       "      <th>1</th>\n",
       "      <td>6</td>\n",
       "      <td>Tony Hawk's Pro Skater 2</td>\n",
       "      <td>5.0</td>\n",
       "    </tr>\n",
       "    <tr>\n",
       "      <th>2</th>\n",
       "      <td>8</td>\n",
       "      <td>Grand Theft Auto IV</td>\n",
       "      <td>4.0</td>\n",
       "    </tr>\n",
       "    <tr>\n",
       "      <th>3</th>\n",
       "      <td>10</td>\n",
       "      <td>SoulCalibur</td>\n",
       "      <td>4.0</td>\n",
       "    </tr>\n",
       "    <tr>\n",
       "      <th>4</th>\n",
       "      <td>11</td>\n",
       "      <td>Grand Theft Auto IV</td>\n",
       "      <td>4.5</td>\n",
       "    </tr>\n",
       "  </tbody>\n",
       "</table>\n",
       "</div>"
      ],
      "text/plain": [
       "   userId                                  game  rating\n",
       "0       3  The Legend of Zelda: Ocarina of Time     4.0\n",
       "1       6              Tony Hawk's Pro Skater 2     5.0\n",
       "2       8                   Grand Theft Auto IV     4.0\n",
       "3      10                           SoulCalibur     4.0\n",
       "4      11                   Grand Theft Auto IV     4.5"
      ]
     },
     "execution_count": 4,
     "metadata": {},
     "output_type": "execute_result"
    }
   ],
   "source": [
    "game.head()"
   ]
  },
  {
   "cell_type": "code",
   "execution_count": null,
   "id": "970b109b",
   "metadata": {},
   "outputs": [],
   "source": [
    "# Importing TfidfVectorized from sklearn"
   ]
  },
  {
   "cell_type": "code",
   "execution_count": 5,
   "id": "f7342576",
   "metadata": {},
   "outputs": [],
   "source": [
    "from sklearn.feature_extraction.text import TfidfVectorizer"
   ]
  },
  {
   "cell_type": "code",
   "execution_count": null,
   "id": "fa03ba80",
   "metadata": {},
   "outputs": [],
   "source": [
    "# Creating TfidfVectorizer to remove all stop words"
   ]
  },
  {
   "cell_type": "code",
   "execution_count": 6,
   "id": "61f5511d",
   "metadata": {},
   "outputs": [],
   "source": [
    "Tfidf = TfidfVectorizer(stop_words = \"english\")"
   ]
  },
  {
   "cell_type": "code",
   "execution_count": null,
   "id": "2dcdbc8a",
   "metadata": {},
   "outputs": [],
   "source": [
    "# Checking the null value in rating"
   ]
  },
  {
   "cell_type": "code",
   "execution_count": 8,
   "id": "fcc36e78",
   "metadata": {},
   "outputs": [
    {
     "data": {
      "text/plain": [
       "0"
      ]
     },
     "execution_count": 8,
     "metadata": {},
     "output_type": "execute_result"
    }
   ],
   "source": [
    "game['rating'].isna().sum()"
   ]
  },
  {
   "cell_type": "code",
   "execution_count": null,
   "id": "546aa82c",
   "metadata": {},
   "outputs": [],
   "source": [
    "# Creating Tfidf matrix"
   ]
  },
  {
   "cell_type": "code",
   "execution_count": 9,
   "id": "a0bd2e83",
   "metadata": {},
   "outputs": [],
   "source": [
    "tfidf_matrix = Tfidf.fit_transform(game['game'])"
   ]
  },
  {
   "cell_type": "code",
   "execution_count": 10,
   "id": "658a3c7b",
   "metadata": {},
   "outputs": [
    {
     "data": {
      "text/plain": [
       "(5000, 3068)"
      ]
     },
     "execution_count": 10,
     "metadata": {},
     "output_type": "execute_result"
    }
   ],
   "source": [
    "tfidf_matrix.shape"
   ]
  },
  {
   "cell_type": "code",
   "execution_count": 11,
   "id": "9058a43d",
   "metadata": {},
   "outputs": [],
   "source": [
    "# Find similarity score\n",
    "from sklearn.metrics.pairwise import cosine_similarity"
   ]
  },
  {
   "cell_type": "code",
   "execution_count": 12,
   "id": "26708946",
   "metadata": {},
   "outputs": [],
   "source": [
    "cosine_sim_matrix = cosine_similarity(tfidf_matrix,tfidf_matrix)"
   ]
  },
  {
   "cell_type": "code",
   "execution_count": 13,
   "id": "9185feb3",
   "metadata": {},
   "outputs": [],
   "source": [
    "# We now create a series of the game ratings, while removing the duplicate values\n",
    "game_data_index = pd.Series(game.index, index= game[\"userId\"]).drop_duplicates()"
   ]
  },
  {
   "cell_type": "code",
   "execution_count": 16,
   "id": "0a9e4a41",
   "metadata": {},
   "outputs": [
    {
     "data": {
      "text/plain": [
       "userId\n",
       "3     0\n",
       "6     1\n",
       "8     2\n",
       "10    3\n",
       "11    4\n",
       "12    5\n",
       "13    6\n",
       "14    7\n",
       "16    8\n",
       "19    9\n",
       "dtype: int64"
      ]
     },
     "execution_count": 16,
     "metadata": {},
     "output_type": "execute_result"
    }
   ],
   "source": [
    "game_data_index.head(10)"
   ]
  },
  {
   "cell_type": "code",
   "execution_count": 17,
   "id": "de8a5563",
   "metadata": {},
   "outputs": [
    {
     "data": {
      "text/plain": [
       "89"
      ]
     },
     "execution_count": 17,
     "metadata": {},
     "output_type": "execute_result"
    }
   ],
   "source": [
    "# Checking the same for a random movie picked up\n",
    "game_data_id = game_data_index[269]\n",
    "\n",
    "game_data_id"
   ]
  },
  {
   "cell_type": "code",
   "execution_count": 20,
   "id": "62ab8ba3",
   "metadata": {},
   "outputs": [],
   "source": [
    "# We will have to create a user defined function for generating recommendations for the games as under\n",
    "def get_recommendations(UserId, topN):\n",
    "    \n",
    "    #getting the game index sing its userid\n",
    "    game_data_id = game_data_index[UserId]\n",
    "    \n",
    "    # Getting the pair wise similarity score for all the anime's with that\n",
    "    cosine_scores = list(enumerate(cosine_sim_matrix[game_data_id]))\n",
    "    \n",
    "    cosine_scores = sorted(cosine_scores, key = lambda x:x[1], reverse=True)\n",
    "    \n",
    "    cosine_scores_N = cosine_scores[0:topN+1]\n",
    "    \n",
    "    \n",
    "    # Getting the game index \n",
    "    game_data_idx = [i[0] for i in cosine_scores_N]\n",
    "    \n",
    "    game_data_scores = [i[1] for i in cosine_scores_N]\n",
    "    \n",
    "    \n",
    "    games_similar = pd.DataFrame(columns=[\"game\", \"rating\"])\n",
    "    \n",
    "    games_similar[\"game\"] = game.loc[game_data_idx, \"game\"]    \n",
    "    \n",
    "    games_similar[\"rating\"] = game_data_scores\n",
    "    \n",
    "    games_similar.reset_index(inplace = True) \n",
    "    \n",
    "    #games_similar.drop([\"game\"], axis=1, inplace=True)\n",
    "    print(games_similar)\n"
   ]
  },
  {
   "cell_type": "code",
   "execution_count": 21,
   "id": "0d151bec",
   "metadata": {},
   "outputs": [
    {
     "name": "stdout",
     "output_type": "stream",
     "text": [
      "    index                         game    rating\n",
      "0      95          Burnout 3: Takedown  1.000000\n",
      "1     108          Burnout 3: Takedown  1.000000\n",
      "2    4315                      Burnout  0.621807\n",
      "3    4585                      Burnout  0.621807\n",
      "4    1102              Burnout Legends  0.456389\n",
      "5     405              Burnout Revenge  0.428381\n",
      "6     496              Burnout Revenge  0.428381\n",
      "7     577              Burnout Revenge  0.428381\n",
      "8     654             Burnout Paradise  0.425606\n",
      "9     855             Burnout Paradise  0.425606\n",
      "10   2814  Burnout Paradise Remastered  0.357666\n"
     ]
    },
    {
     "data": {
      "text/plain": [
       "95"
      ]
     },
     "execution_count": 21,
     "metadata": {},
     "output_type": "execute_result"
    }
   ],
   "source": [
    "# We are trying to recommend using the above defined function top 10 games \n",
    "# that stand similar in ratings as that of the game defined in the code\n",
    "\n",
    "get_recommendations(285, topN=10)\n",
    "\n",
    "game_data_index[285]"
   ]
  }
 ],
 "metadata": {
  "kernelspec": {
   "display_name": "Python 3 (ipykernel)",
   "language": "python",
   "name": "python3"
  },
  "language_info": {
   "codemirror_mode": {
    "name": "ipython",
    "version": 3
   },
   "file_extension": ".py",
   "mimetype": "text/x-python",
   "name": "python",
   "nbconvert_exporter": "python",
   "pygments_lexer": "ipython3",
   "version": "3.11.4"
  }
 },
 "nbformat": 4,
 "nbformat_minor": 5
}
